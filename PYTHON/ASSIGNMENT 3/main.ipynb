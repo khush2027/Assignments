{
  "cells": [
    {
      "cell_type": "code",
      "execution_count": null,
      "metadata": {
        "id": "7HQMVPgjz969"
      },
      "outputs": [],
      "source": [
        "# NAME KHUSHI KAMBLE\n",
        "# ROLL NO: 391022\n",
        "# ASSIGNMENT 3\n",
        "#Using the [Wine Quality dataset]( https://www.kaggle.com/datasets/uciml/red-wine-\n",
        "#quality-cortez-et-al-2009), create a FastAPI endpoint to filter wine data based on quality\n",
        "#and visualize the distribution of certain features. Use Pandas for filtering and Matplotlib\n",
        "#for visualization.\n",
        "# Implement a `WineDataFilter` class to filter data based on quality.\n",
        "# Create a FastAPI endpoint that returns filtered data and visualizations of feature distributions.\n",
        "#Save visualizations as image files."
      ]
    },
    {
      "cell_type": "code",
      "execution_count": null,
      "metadata": {
        "id": "OiRWhRo07umD"
      },
      "outputs": [],
      "source": [
        "# Importing the necessary libraries'\n",
        "#revat36\n",
        "import tensorflow as tf\n",
        "from tensorflow.keras.preprocessing.image import ImageDataGenerator\n",
        "from tensorflow.keras.applications import VGG16\n",
        "from tensorflow.keras import layers, models\n",
        "import matplotlib.pyplot as plt\n",
        "from tensorflow.keras import layers, models"
      ]
    },
    {
      "cell_type": "code",
      "execution_count": null,
      "metadata": {
        "colab": {
          "base_uri": "https://localhost:8080/"
        },
        "id": "F4tdi6O59lOp",
        "outputId": "9acca01f-9656-4da6-a8b3-d1d05943c3d4"
      },
      "outputs": [
        {
          "name": "stdout",
          "output_type": "stream",
          "text": [
            "Mounted at /content/drive\n"
          ]
        }
      ],
      "source": [
        "from google.colab import drive\n",
        "drive.mount('/content/drive')"
      ]
    },
    {
      "cell_type": "code",
      "execution_count": null,
      "metadata": {
        "id": "YJnjAusu6GJX"
      },
      "outputs": [],
      "source": [
        "# Set image size and batch size\n",
        "img_size = (224, 224)\n",
        "batch_size = 32"
      ]
    },
    {
      "cell_type": "code",
      "execution_count": null,
      "metadata": {
        "id": "CuFGXQrNBCUL"
      },
      "outputs": [],
      "source": [
        "# Paths to train and validation folders\n",
        "train_dir = '/content/drive/MyDrive/animals/afhq/train'\n",
        "validation_dir = '/content/drive/MyDrive/animals/afhq/val'"
      ]
    },
    {
      "cell_type": "code",
      "execution_count": null,
      "metadata": {
        "id": "iEhD2_O-BDhi"
      },
      "outputs": [],
      "source": [
        "# Data augmentation and normalization- Training set\n",
        "train_datagen = ImageDataGenerator(\n",
        "    rescale=1./255,            # Normalize pixel values to [0, 1]\n",
        "    shear_range=0.2,           # Randomly shear images\n",
        "    zoom_range=0.2,            # Randomly zoom into images\n",
        "    horizontal_flip=True)      # Randomly flip images horizontally\n",
        "\n",
        "# Validation set\n",
        "validation_datagen = ImageDataGenerator(rescale=1./255)"
      ]
    },
    {
      "cell_type": "code",
      "execution_count": null,
      "metadata": {
        "colab": {
          "base_uri": "https://localhost:8080/"
        },
        "id": "x1QthQhJBDjp",
        "outputId": "ecaefe60-f097-45dd-9192-30ec32b086e7"
      },
      "outputs": [
        {
          "name": "stdout",
          "output_type": "stream",
          "text": [
            "Found 5193 images belonging to 3 classes.\n",
            "Found 1151 images belonging to 3 classes.\n"
          ]
        }
      ],
      "source": [
        "# Load the training data from the training directory\n",
        "train_generator = train_datagen.flow_from_directory(\n",
        "    train_dir,\n",
        "    target_size=img_size,\n",
        "    batch_size=batch_size,\n",
        "    class_mode='categorical')\n",
        "\n",
        "# Load the validation data from the validation directory\n",
        "validation_generator = validation_datagen.flow_from_directory(\n",
        "    validation_dir,\n",
        "    target_size=img_size,\n",
        "    batch_size=batch_size,\n",
        "    class_mode='categorical')"
      ]
    },
    {
      "cell_type": "code",
      "execution_count": null,
      "metadata": {
        "colab": {
          "base_uri": "https://localhost:8080/"
        },
        "id": "CZjupq5oBDnG",
        "outputId": "12aaa2fd-5996-469a-93a9-ff63b0f0781f"
      },
      "outputs": [
        {
          "name": "stdout",
          "output_type": "stream",
          "text": [
            "Number of Classes: 3\n"
          ]
        }
      ],
      "source": [
        "# Get the number of classes from the train generator\n",
        "num_classes = len(train_generator.class_indices)\n",
        "\n",
        "print(f\"Number of Classes: {num_classes}\")"
      ]
    },
    {
      "cell_type": "code",
      "execution_count": null,
      "metadata": {
        "id": "6NIUyVNb9Lyy"
      },
      "outputs": [],
      "source": [
        "# Create a custom CNN model\n",
        "custom_model = models.Sequential([\n",
        "    layers.Conv2D(32, (3, 3), activation='relu', input_shape=img_size + (3,)),\n",
        "    layers.MaxPooling2D((2, 2)),\n",
        "    layers.Conv2D(64, (3, 3), activation='relu'),\n",
        "    layers.MaxPooling2D((2, 2)),\n",
        "    layers.Conv2D(128, (3, 3), activation='relu'),\n",
        "    layers.MaxPooling2D((2, 2)),\n",
        "    layers.Flatten(),\n",
        "    layers.Dense(512, activation='relu'),\n",
        "    layers.Dropout(0.5),\n",
        "    layers.Dense(num_classes, activation='softmax')\n",
        "])"
      ]
    },
    {
      "cell_type": "code",
      "execution_count": null,
      "metadata": {
        "id": "_X5DxTL19L1P"
      },
      "outputs": [],
      "source": [
        "# Compile the custom model\n",
        "custom_model.compile(optimizer='adam', loss='categorical_crossentropy', metrics=['accuracy'])"
      ]
    },
    {
      "cell_type": "code",
      "execution_count": null,
      "metadata": {
        "id": "VVPJqzdC9L3p"
      },
      "outputs": [],
      "source": [
        "# Train the custom CNN\n",
        "custom_cnn_history = custom_model.fit(train_generator, validation_data=validation_generator, epochs=5)"
      ]
    },
    {
      "cell_type": "code",
      "execution_count": null,
      "metadata": {
        "id": "thVViYUz9L66"
      },
      "outputs": [],
      "source": [
        "# Evaluate the custom CNN model\n",
        "custom_train_eval = custom_model.evaluate(train_generator)\n",
        "custom_val_eval = custom_model.evaluate(validation_generator)\n",
        "\n",
        "print(f\"Custom CNN - Training Accuracy: {custom_train_eval[1]:.4f}, Loss: {custom_train_eval[0]:.4f}\")\n",
        "print(f\"Custom CNN - Validation Accuracy: {custom_val_eval[1]:.4f}, Loss: {custom_val_eval[0]:.4f}\")"
      ]
    },
    {
      "cell_type": "code",
      "execution_count": null,
      "metadata": {
        "id": "2lgnS-Af9UuU"
      },
      "outputs": [],
      "source": [
        "# Plot the results for the custom CNN\n",
        "plot_history(custom_cnn_history, \"Custom CNN Architecture\")"
      ]
    }
  ],
  "metadata": {
    "accelerator": "GPU",
    "colab": {
      "gpuType": "T4",
      "provenance": []
    },
    "kernelspec": {
      "display_name": "Python 3",
      "name": "python3"
    },
    "language_info": {
      "codemirror_mode": {
        "name": "ipython",
        "version": 3
      },
      "file_extension": ".py",
      "mimetype": "text/x-python",
      "name": "python",
      "nbconvert_exporter": "python",
      "pygments_lexer": "ipython3",
      "version": "3.12.3"
    }
  },
  "nbformat": 4,
  "nbformat_minor": 0
}
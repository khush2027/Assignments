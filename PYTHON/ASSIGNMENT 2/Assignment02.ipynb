{
  "cells": [
    {
      "cell_type": "code",
      "execution_count": null,
      "metadata": {
        "id": "wc_tWPShoA7j"
      },
      "outputs": [],
      "source": [
        "#Assignment 2 :\n",
        "#Name : KHUSHI KAMBLE\n",
        "#Roll no: 391022\n",
        "#Batch:A1\n",
        "#2. Using the [House Prices dataset]( https://www.kaggle.com/c/house-prices-advanced-\n",
        "#regression-techniques/data), create a FastAPI endpoint that returns predictions for\n",
        "#house prices based on user-provided features. Use a simple linear regression model\n",
        "#for prediction.\n",
        "#Requirements:\n",
        "#o Implement a `HousePricePredictor` class to handle data preprocessing and\n",
        "#prediction.\n",
        "#o Create a FastAPI endpoint that accepts house features and returns the predicted\n",
        "#price.\n",
        "#o Use scikit-learn for the regression model."
      ]
    },
    {
      "cell_type": "code",
      "execution_count": null,
      "metadata": {
        "id": "I8zNf03JoA7m"
      },
      "outputs": [],
      "source": [
        "import pandas as pd\n",
        "from sklearn.model_selection import train_test_split\n",
        "from sklearn.linear_model import LinearRegression\n",
        "from sklearn.preprocessing import StandardScaler\n",
        "from fastapi import FastAPI\n",
        "from pydantic import BaseModel\n",
        "import uvicorn\n",
        "import nest_asyncio"
      ]
    },
    {
      "cell_type": "code",
      "execution_count": null,
      "metadata": {
        "id": "E-Yetw1boA7n"
      },
      "outputs": [],
      "source": [
        "class HousePricePredictor:\n",
        "    def __init__(self, data_path):\n",
        "        self.data_path = data_path\n",
        "        self.model = LinearRegression()\n",
        "        self.scaler = StandardScaler()\n",
        "        self.features = None"
      ]
    },
    {
      "cell_type": "code",
      "execution_count": null,
      "metadata": {
        "id": "-BxjHflKoA7n"
      },
      "outputs": [],
      "source": [
        "def load_and_preprocess_data(self):\n",
        "        \"\"\"Load and preprocess the dataset.\"\"\"\n",
        "        # Load the dataset\n",
        "        data = pd.read_csv(self.data_path)"
      ]
    },
    {
      "cell_type": "code",
      "execution_count": null,
      "metadata": {
        "id": "J3A0j0UWoA7n"
      },
      "outputs": [],
      "source": [
        "class HousePricePredictor:\n",
        "    def __init__(self, data_path):\n",
        "        self.data_path = data_path\n",
        "        self.model = LinearRegression()\n",
        "        self.scaler = StandardScaler()\n",
        "        self.features = None\n",
        "\n",
        "    def load_and_preprocess_data(self):\n",
        "        \"\"\"Load and preprocess the dataset.\"\"\"\n",
        "        # Load the dataset\n",
        "        data = pd.read_csv(self.data_path)\n",
        "\n",
        "        # Select a few features for simplicity\n",
        "        self.features = ['OverallQual', 'GrLivArea', 'GarageCars', 'TotalBsmtSF', 'FullBath', 'YearBuilt']\n",
        "        X = data[self.features]\n",
        "        y = data['SalePrice']\n",
        "\n",
        "        # Split data into training and testing sets\n",
        "        X_train, X_test, y_train, y_test = train_test_split(X, y, test_size=0.2, random_state=42)\n",
        "\n",
        "        # Standardize the features\n",
        "        X_train = self.scaler.fit_transform(X_train)\n",
        "        X_test = self.scaler.transform(X_test)\n",
        "\n",
        "        # Train the model\n",
        "        self.model.fit(X_train, y_train)\n",
        "\n",
        "    def predict(self, features):\n",
        "        \"\"\"Predict the house price based on the input features.\"\"\"\n",
        "        # Convert input features to DataFrame\n",
        "        input_data = pd.DataFrame([features], columns=self.features)\n",
        "\n",
        "        # Standardize the input features\n",
        "        input_data = self.scaler.transform(input_data)\n",
        "\n",
        "        # Predict the price\n",
        "        predicted_price = self.model.predict(input_data)\n",
        "        return predicted_price[0]\n"
      ]
    },
    {
      "cell_type": "code",
      "execution_count": null,
      "metadata": {
        "id": "UU3ppJUToA7o"
      },
      "outputs": [],
      "source": [
        "# Define a request body model\n",
        "class HouseFeatures(BaseModel):\n",
        "    OverallQual: int\n",
        "    GrLivArea: float\n",
        "    GarageCars: int\n",
        "    TotalBsmtSF: float\n",
        "    FullBath: int\n",
        "    YearBuilt: int\n",
        "\n",
        "# Initialize FastAPI app\n",
        "app = FastAPI()\n",
        "\n",
        "# Initialize the predictor class\n",
        "predictor = HousePricePredictor(data_path='house-prices-advanced-regression-techniques/train.csv')\n",
        "predictor.load_and_preprocess_data()\n",
        "\n",
        "@app.post(\"/predict\")\n",
        "def predict_price(features: HouseFeatures):\n",
        "    # Convert input features to a dictionary\n",
        "    features_dict = features.dict()\n",
        "\n",
        "    # Predict the house price\n",
        "    predicted_price = predictor.predict(features_dict)\n",
        "\n",
        "    return {\"predicted_price\": predicted_price}\n"
      ]
    },
    {
      "cell_type": "code",
      "execution_count": null,
      "metadata": {
        "id": "ma_p3_SvoA7o",
        "outputId": "cafff668-d559-4b74-b3d4-1b16b8cd478a"
      },
      "outputs": [
        {
          "name": "stderr",
          "output_type": "stream",
          "text": [
            "INFO:     Started server process [19588]\n",
            "INFO:     Waiting for application startup.\n",
            "INFO:     Application startup complete.\n",
            "INFO:     Uvicorn running on http://0.0.0.0:8000 (Press CTRL+C to quit)\n",
            "INFO:     Shutting down\n",
            "INFO:     Waiting for application shutdown.\n",
            "INFO:     Application shutdown complete.\n",
            "INFO:     Finished server process [19588]\n"
          ]
        }
      ],
      "source": [
        "if __name__ == \"__main__\":\n",
        "    nest_asyncio.apply() # Allows nested asyncio event loops\n",
        "    uvicorn.run(app, host=\"0.0.0.0\", port=8000)\n"
      ]
    }
  ],
  "metadata": {
    "kernelspec": {
      "display_name": "Python 3",
      "language": "python",
      "name": "python3"
    },
    "language_info": {
      "codemirror_mode": {
        "name": "ipython",
        "version": 3
      },
      "file_extension": ".py",
      "mimetype": "text/x-python",
      "name": "python",
      "nbconvert_exporter": "python",
      "pygments_lexer": "ipython3",
      "version": "3.12.4"
    },
    "colab": {
      "provenance": []
    }
  },
  "nbformat": 4,
  "nbformat_minor": 0
}
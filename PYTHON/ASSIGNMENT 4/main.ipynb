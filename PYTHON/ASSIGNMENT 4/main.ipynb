{
  "cells": [
    {
      "cell_type": "code",
      "source": [
        "# NAME KHUSHI KAMBLE\n",
        "# ROLL NO 391022\n",
        "# ASSIGNMENT 4\n",
        "#  Implement a custom iterator to process the [Mall Customer Segmentation\n",
        "#dataset]( https://www.kaggle.com/vjchoudhary7/customer-segmentation-tutorial-in-\n",
        "#python). The iterator should stream data in chunks and allow for incremental analysis.\n",
        "\n",
        "#Requirements\n",
        "#Create a `ChunkIterator` class to iterate over chunks of the dataset.\n",
        "# Implement a method to calculate and return basic statistics for each chunk."
      ],
      "metadata": {
        "id": "gd9vkJ4FtvSK"
      },
      "execution_count": null,
      "outputs": []
    },
    {
      "cell_type": "code",
      "execution_count": null,
      "metadata": {
        "id": "z3n7ajrMar69"
      },
      "outputs": [],
      "source": [
        "import pandas as pd\n",
        "\n",
        "class ChunkIterator:\n",
        "    def __init__(self, file_path: str, chunk_size: int = 100):\n",
        "        # Initialize file path and chunk size\n",
        "        self.file_path = file_path\n",
        "        self.chunk_size = chunk_size\n",
        "        # Create an iterator from the CSV file using pandas\n",
        "        self.iterator = pd.read_csv(self.file_path, chunksize=self.chunk_size)\n",
        "\n",
        "    def __iter__(self):\n",
        "        return self\n",
        "\n",
        "    def __next__(self) -> pd.DataFrame:\n",
        "        # Try to retrieve the next chunk\n",
        "        try:\n",
        "            chunk = next(self.iterator)\n",
        "        except StopIteration:\n",
        "            # Raise StopIteration when no more chunks are available\n",
        "            raise\n",
        "        return chunk\n",
        "\n",
        "    def calculate_statistics(self, chunk: pd.DataFrame) -> dict:\n",
        "        # Initialize a dictionary to hold statistics\n",
        "        statistics = {}\n",
        "        # Loop through each numeric column to calculate stats\n",
        "        for column in chunk.select_dtypes(include=['float64', 'int64']).columns:\n",
        "            statistics[column] = {\n",
        "                \"mean\": chunk[column].mean(),\n",
        "                \"median\": chunk[column].median(),\n",
        "                \"std_dev\": chunk[column].std(),\n",
        "                \"min\": chunk[column].min(),\n",
        "                \"max\": chunk[column].max()\n",
        "            }\n",
        "        return statistics\n"
      ]
    },
    {
      "cell_type": "code",
      "execution_count": null,
      "metadata": {
        "id": "i8aAlhYuar6_",
        "outputId": "373747d8-f0c7-43dd-e61a-8de747218a2b"
      },
      "outputs": [
        {
          "name": "stdout",
          "output_type": "stream",
          "text": [
            "Chunk statistics:\n",
            "CustomerID: {'mean': 25.5, 'median': 25.5, 'std_dev': 14.577379737113251, 'min': 1, 'max': 50}\n",
            "Age: {'mean': 35.28, 'median': 31.0, 'std_dev': 13.751497135562651, 'min': 18, 'max': 67}\n",
            "Annual Income (k$): {'mean': 27.4, 'median': 28.0, 'std_dev': 8.369039151929606, 'min': 15, 'max': 40}\n",
            "Spending Score (1-100): {'mean': 49.48, 'median': 44.5, 'std_dev': 30.217740430659173, 'min': 3, 'max': 99}\n",
            "\n",
            "---\n",
            "\n",
            "Chunk statistics:\n",
            "CustomerID: {'mean': 75.5, 'median': 75.5, 'std_dev': 14.577379737113251, 'min': 51, 'max': 100}\n",
            "Age: {'mean': 44.22, 'median': 47.0, 'std_dev': 16.232104746144163, 'min': 18, 'max': 70}\n",
            "Annual Income (k$): {'mean': 51.72, 'median': 54.0, 'std_dev': 6.023897985422355, 'min': 42, 'max': 61}\n",
            "Spending Score (1-100): {'mean': 50.38, 'median': 50.5, 'std_dev': 5.8340660375601034, 'min': 40, 'max': 60}\n",
            "\n",
            "---\n",
            "\n",
            "Chunk statistics:\n",
            "CustomerID: {'mean': 125.5, 'median': 125.5, 'std_dev': 14.577379737113251, 'min': 101, 'max': 150}\n",
            "Age: {'mean': 38.58, 'median': 36.5, 'std_dev': 14.781524596189499, 'min': 18, 'max': 68}\n",
            "Annual Income (k$): {'mean': 69.2, 'median': 70.0, 'std_dev': 5.314592925068079, 'min': 62, 'max': 78}\n",
            "Spending Score (1-100): {'mean': 50.98, 'median': 49.0, 'std_dev': 25.224291822748636, 'min': 5, 'max': 97}\n",
            "\n",
            "---\n",
            "\n",
            "Chunk statistics:\n",
            "CustomerID: {'mean': 175.5, 'median': 175.5, 'std_dev': 14.577379737113251, 'min': 151, 'max': 200}\n",
            "Age: {'mean': 37.32, 'median': 36.0, 'std_dev': 8.746871160708887, 'min': 19, 'max': 59}\n",
            "Annual Income (k$): {'mean': 93.92, 'median': 88.0, 'std_dev': 15.920516861674345, 'min': 78, 'max': 137}\n",
            "Spending Score (1-100): {'mean': 49.96, 'median': 51.0, 'std_dev': 33.519997077589856, 'min': 1, 'max': 97}\n",
            "\n",
            "---\n",
            "\n"
          ]
        }
      ],
      "source": [
        "# Specify the path to the dataset (ensure the dataset is in the same directory or provide the absolute path)\n",
        "file_path = \"Mall_Customers.csv\"\n",
        "\n",
        "# Initialize the ChunkIterator with the specified file path and chunk size\n",
        "chunk_iterator = ChunkIterator(file_path=file_path, chunk_size=50)\n",
        "\n",
        "# Iterate through each chunk in the dataset and calculate statistics\n",
        "for chunk in chunk_iterator:\n",
        "    # Calculate statistics for the current chunk\n",
        "    stats = chunk_iterator.calculate_statistics(chunk)\n",
        "    print(\"Statistics for current chunk:\")\n",
        "    # Print statistics for each column\n",
        "    for col, stat in stats.items():\n",
        "        print(f\"{col}: {stat}\")\n",
        "    print(\"\\n--- End of Chunk ---\\n\")\n"
      ]
    }
  ],
  "metadata": {
    "kernelspec": {
      "display_name": "Python 3",
      "language": "python",
      "name": "python3"
    },
    "language_info": {
      "codemirror_mode": {
        "name": "ipython",
        "version": 3
      },
      "file_extension": ".py",
      "mimetype": "text/x-python",
      "name": "python",
      "nbconvert_exporter": "python",
      "pygments_lexer": "ipython3",
      "version": "3.12.3"
    },
    "colab": {
      "provenance": []
    }
  },
  "nbformat": 4,
  "nbformat_minor": 0
}